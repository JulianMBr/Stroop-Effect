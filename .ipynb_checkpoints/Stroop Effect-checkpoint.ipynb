{
 "cells": [
  {
   "cell_type": "markdown",
   "metadata": {},
   "source": [
    "# Statistics: The Science of Decisions Project Instructions\n",
    "\n",
    "## Background Information\n",
    "\n",
    "In a Stroop task, participants are presented with a list of words, with each word displayed in a color of ink. The participant’s task is to say out loud the color of the ink in which the word is printed. The task has two conditions: a congruent words condition, and an incongruent words condition. In the congruent words condition, the words being displayed are color words whose names match the colors in which they are printed: for example RED, BLUE. In the incongruent words condition, the words displayed are color words whose names do not match the colors in which they are printed: for example PURPLE, ORANGE. In each case, we measure the time it takes to name the ink colors in equally-sized lists. Each participant will go through and record a time from each condition."
   ]
  },
  {
   "cell_type": "markdown",
   "metadata": {
    "collapsed": true
   },
   "source": [
    "### 1. What is our independent variable? What is our dependent variable?\n",
    "An independent variable is the variable that we change in order to see its effect on the dependent variable.\n",
    "Hence, the independent variable in this experiment is whether the colour of the word and the word name are the same or different. The dependent variable is the time it takes to name the ink colors in equally-sized lists.\n",
    "\n",
    "### 2. What is an appropriate set of hypotheses for this task and what kind of statistical test do you expect to perform?\n",
    "\n",
    "#### Research question  \n",
    "Does the data suggest that there is a difference in time to name the ink of the color when the words match the color or do not match the color in which they are printed in? \n",
    "\n",
    "#### Justification for using a significance test\n",
    "A _significance test_ is a procedure designed to answer the question of whether or not a null hypothesis provides a plausible explanation of the data.<sup>1</sup> Hence we will use dependent t-test for paired samples for analysis. Further post-hoc tests to see which groups generate a positive result (if!) are not required as there is only one group.\n",
    "\n",
    "$α = 0.05$ as p-value which is required to reject the test when below the confidience value.\n",
    "$μ$ = mean of population  \n",
    "$\\bar{x}$ = mean of population  \n",
    "\n",
    "#### Set of Hypothesis\n",
    "The tables describes the set of hypothesis where $μ0$ is the hypothesized population mean.<sup>2</sup>\n",
    "\n",
    "| Hypothesis | Summary                                                                                                                  |\n",
    "|------------|--------------------------------------------------------------------------------------------------------------------------|\n",
    "| $H_0: μ = μ0$ | There is no difference between the population mean and $μ0$ |\n",
    "| $H_1: μ ≠ μ0$ | There is a differnce between the population mean and $μ0$. Hence, no differenct regarding the time it takes to name the ink colors whether they match or do not match the color they are printed in.|"
   ]
  },
  {
   "cell_type": "markdown",
   "metadata": {},
   "source": [
    "### _Set up our environment and libraries_"
   ]
  },
  {
   "cell_type": "code",
   "execution_count": 6,
   "metadata": {
    "collapsed": false
   },
   "outputs": [
    {
     "data": {
      "text/html": [
       "<div>\n",
       "<table border=\"1\" class=\"dataframe\">\n",
       "  <thead>\n",
       "    <tr style=\"text-align: right;\">\n",
       "      <th></th>\n",
       "      <th>Congruent</th>\n",
       "      <th>Incongruent</th>\n",
       "    </tr>\n",
       "  </thead>\n",
       "  <tbody>\n",
       "    <tr>\n",
       "      <th>0</th>\n",
       "      <td>12.079</td>\n",
       "      <td>19.278</td>\n",
       "    </tr>\n",
       "    <tr>\n",
       "      <th>1</th>\n",
       "      <td>16.791</td>\n",
       "      <td>18.741</td>\n",
       "    </tr>\n",
       "    <tr>\n",
       "      <th>2</th>\n",
       "      <td>9.564</td>\n",
       "      <td>21.214</td>\n",
       "    </tr>\n",
       "    <tr>\n",
       "      <th>3</th>\n",
       "      <td>8.630</td>\n",
       "      <td>15.687</td>\n",
       "    </tr>\n",
       "    <tr>\n",
       "      <th>4</th>\n",
       "      <td>14.669</td>\n",
       "      <td>22.803</td>\n",
       "    </tr>\n",
       "    <tr>\n",
       "      <th>5</th>\n",
       "      <td>12.238</td>\n",
       "      <td>20.878</td>\n",
       "    </tr>\n",
       "    <tr>\n",
       "      <th>6</th>\n",
       "      <td>14.692</td>\n",
       "      <td>24.572</td>\n",
       "    </tr>\n",
       "    <tr>\n",
       "      <th>7</th>\n",
       "      <td>8.987</td>\n",
       "      <td>17.394</td>\n",
       "    </tr>\n",
       "    <tr>\n",
       "      <th>8</th>\n",
       "      <td>9.401</td>\n",
       "      <td>20.762</td>\n",
       "    </tr>\n",
       "    <tr>\n",
       "      <th>9</th>\n",
       "      <td>14.480</td>\n",
       "      <td>26.282</td>\n",
       "    </tr>\n",
       "    <tr>\n",
       "      <th>10</th>\n",
       "      <td>22.328</td>\n",
       "      <td>24.524</td>\n",
       "    </tr>\n",
       "    <tr>\n",
       "      <th>11</th>\n",
       "      <td>15.298</td>\n",
       "      <td>18.644</td>\n",
       "    </tr>\n",
       "    <tr>\n",
       "      <th>12</th>\n",
       "      <td>15.073</td>\n",
       "      <td>17.510</td>\n",
       "    </tr>\n",
       "    <tr>\n",
       "      <th>13</th>\n",
       "      <td>16.929</td>\n",
       "      <td>20.330</td>\n",
       "    </tr>\n",
       "    <tr>\n",
       "      <th>14</th>\n",
       "      <td>18.200</td>\n",
       "      <td>35.255</td>\n",
       "    </tr>\n",
       "    <tr>\n",
       "      <th>15</th>\n",
       "      <td>12.130</td>\n",
       "      <td>22.158</td>\n",
       "    </tr>\n",
       "    <tr>\n",
       "      <th>16</th>\n",
       "      <td>18.495</td>\n",
       "      <td>25.139</td>\n",
       "    </tr>\n",
       "    <tr>\n",
       "      <th>17</th>\n",
       "      <td>10.639</td>\n",
       "      <td>20.429</td>\n",
       "    </tr>\n",
       "    <tr>\n",
       "      <th>18</th>\n",
       "      <td>11.344</td>\n",
       "      <td>17.425</td>\n",
       "    </tr>\n",
       "    <tr>\n",
       "      <th>19</th>\n",
       "      <td>12.369</td>\n",
       "      <td>34.288</td>\n",
       "    </tr>\n",
       "    <tr>\n",
       "      <th>20</th>\n",
       "      <td>12.944</td>\n",
       "      <td>23.894</td>\n",
       "    </tr>\n",
       "    <tr>\n",
       "      <th>21</th>\n",
       "      <td>14.233</td>\n",
       "      <td>17.960</td>\n",
       "    </tr>\n",
       "    <tr>\n",
       "      <th>22</th>\n",
       "      <td>19.710</td>\n",
       "      <td>22.058</td>\n",
       "    </tr>\n",
       "    <tr>\n",
       "      <th>23</th>\n",
       "      <td>16.004</td>\n",
       "      <td>21.157</td>\n",
       "    </tr>\n",
       "  </tbody>\n",
       "</table>\n",
       "</div>"
      ],
      "text/plain": [
       "    Congruent  Incongruent\n",
       "0      12.079       19.278\n",
       "1      16.791       18.741\n",
       "2       9.564       21.214\n",
       "3       8.630       15.687\n",
       "4      14.669       22.803\n",
       "5      12.238       20.878\n",
       "6      14.692       24.572\n",
       "7       8.987       17.394\n",
       "8       9.401       20.762\n",
       "9      14.480       26.282\n",
       "10     22.328       24.524\n",
       "11     15.298       18.644\n",
       "12     15.073       17.510\n",
       "13     16.929       20.330\n",
       "14     18.200       35.255\n",
       "15     12.130       22.158\n",
       "16     18.495       25.139\n",
       "17     10.639       20.429\n",
       "18     11.344       17.425\n",
       "19     12.369       34.288\n",
       "20     12.944       23.894\n",
       "21     14.233       17.960\n",
       "22     19.710       22.058\n",
       "23     16.004       21.157"
      ]
     },
     "execution_count": 6,
     "metadata": {},
     "output_type": "execute_result"
    }
   ],
   "source": [
    "# import libraries\n",
    "import numpy as np\n",
    "import pandas as pd\n",
    "from pandas import DataFrame, Series\n",
    "\n",
    "import seaborn as sns\n",
    "from scipy import stats, integrate\n",
    "from scipy.stats import ttest_ind\n",
    "import matplotlib as mpl\n",
    "import matplotlib.pyplot as plt\n",
    "import statsmodels.formula.api as sm\n",
    "from sklearn.linear_model import LinearRegression\n",
    "\n",
    "# print plots inline\n",
    "%matplotlib inline\n",
    "np.random.seed(12345678) # fix random seed to get same numbers\n",
    "\n",
    "# set style of seaborn\n",
    "sns.set(style=\"ticks\")\n",
    "\n",
    "# path to the csv\n",
    "path = r'/home/ubuntu/notebooks/nanodegree-udacity/Test the Stroop Effect/stroopdata.csv'\n",
    "\n",
    "#set dataFrame\n",
    "dataFrame = pd.read_csv(path)\n",
    "dataFrame"
   ]
  },
  {
   "cell_type": "markdown",
   "metadata": {},
   "source": [
    "### 3. Report some descriptive statistics regarding this dataset. Include at least one measure of central tendency and at least one measure of variability.\n",
    "First we will get a summary description based on the two variables from the dataset."
   ]
  },
  {
   "cell_type": "code",
   "execution_count": 2,
   "metadata": {
    "collapsed": false
   },
   "outputs": [
    {
     "name": "stdout",
     "output_type": "stream",
     "text": [
      "       Congruent  Incongruent\n",
      "count  24.000000    24.000000\n",
      "mean   14.051125    22.015917\n",
      "std     3.559358     4.797057\n",
      "min     8.630000    15.687000\n",
      "25%    11.895250    18.716750\n",
      "50%    14.356500    21.017500\n",
      "75%    16.200750    24.051500\n",
      "max    22.328000    35.255000\n",
      "DescribeResult(nobs=24, minmax=(8.6300000000000008, 22.328000000000003), mean=14.051124999999999, variance=12.669029070652176, skewness=0.3903776149050634, kurtosis=-0.4048936841311468) \n",
      "\n",
      "DescribeResult(nobs=24, minmax=(15.687000000000001, 35.255000000000003), mean=22.015916666666666, variance=23.011757036231884, skewness=1.4491357281474857, kurtosis=1.920472855091183) \n",
      "\n"
     ]
    }
   ],
   "source": [
    "print dataFrame.describe()\n",
    "print stats.describe(dataFrame['Congruent']), \"\\n\"\n",
    "print stats.describe(dataFrame['Incongruent']), \"\\n\""
   ]
  },
  {
   "cell_type": "markdown",
   "metadata": {},
   "source": [
    "#### Results\n",
    "By looking that the summary output of the _describe()_ function we can observe following details:\n",
    "- The mean for $tCongruent$ is lower than for $tIncongruent$ - hence, the time it took to name congruent words was faster on average by 8 seconds.\n",
    "- The minimum and the maximum for both ($tCongruent|TIncongruent$) was different, but both numbers where higher for the variable $tIncongruent$ (approx. ~ $min(tIncongruent)=7+min(tCongruent)$ and ($max(tIncongruent)=13+max(tCongruent)$)\n",
    "- Both, $std$ and $variance$ was higher on $tIncongruent$ which suggest the values are more widespread due to the difficulty of the task.\n"
   ]
  },
  {
   "cell_type": "markdown",
   "metadata": {},
   "source": [
    "### 4. Provide one or two visualizations that show the distribution of the sample data. Write one or two sentences noting what you observe about the plot or plots."
   ]
  },
  {
   "cell_type": "markdown",
   "metadata": {},
   "source": [
    "As you can see in the scatterplot that most dots are in the left quarter. Hence, it seems the time it took to name the words who where congruent to the color was lower than the incongruent colored words.\n",
    "This is also supported by the second plot (distriubtion) where the occurences of congruent and incongruent where overlayed. You can see a shift to the right which let us also assume that the time took was longer for incongruent colored words.\n",
    "\n",
    "### Graphs\n",
    "#### Scatterplot"
   ]
  },
  {
   "cell_type": "code",
   "execution_count": 7,
   "metadata": {
    "collapsed": false,
    "scrolled": false
   },
   "outputs": [
    {
     "data": {
      "image/png": "[encoded data removed]",
      "text/plain": [
       "<matplotlib.figure.Figure at 0x7fb768f5bad0>"
      ]
     },
     "metadata": {},
     "output_type": "display_data"
    }
   ],
   "source": [
    "sns.jointplot(x=\"Congruent\", y=\"Incongruent\", data=dataFrame, xlim=(5,40), ylim=(5,40));"
   ]
  },
  {
   "cell_type": "markdown",
   "metadata": {},
   "source": [
    "#### Distribution"
   ]
  },
  {
   "cell_type": "code",
   "execution_count": 8,
   "metadata": {
    "collapsed": false
   },
   "outputs": [
    {
     "data": {
      "image/png": "[encoded data removed]",
      "text/plain": [
       "<matplotlib.figure.Figure at 0x7fb76886b990>"
      ]
     },
     "metadata": {},
     "output_type": "display_data"
    }
   ],
   "source": [
    "sns.distplot(dataFrame.Congruent);\n",
    "sns.distplot(dataFrame.Incongruent).set(xlabel='Congruent and Incongruent');"
   ]
  },
  {
   "cell_type": "markdown",
   "metadata": {},
   "source": [
    "### 5. Now, perform the statistical test and report your results. What is your confidence level and your critical statistic value? Do you reject the null hypothesis or fail to reject it? Come to a conclusion in terms of the experiment task. Did the results match up with your expectations?"
   ]
  },
  {
   "cell_type": "code",
   "execution_count": 5,
   "metadata": {
    "collapsed": false
   },
   "outputs": [
    {
     "name": "stdout",
     "output_type": "stream",
     "text": [
      "Ttest_relResult(statistic=-8.020706944109957, pvalue=4.1030005857111781e-08)\n"
     ]
    }
   ],
   "source": [
    "# Perform the dependent t-test for paired samples\n",
    "print stats.ttest_rel(dataFrame['Congruent'], dataFrame['Incongruent'])\n"
   ]
  },
  {
   "cell_type": "markdown",
   "metadata": {},
   "source": [
    "#### Results\n",
    "A value of $α = 0.05$ implies that the null hypothesis is rejected 5 % of the time when it is in fact true.<sup>4</sup> \n",
    "With a critical value of $pvalue=4,1030005857111781e-08$ <small>($0.000000041030005857111781$)</small> is far lower than our confidence level of $α = 0.05$ so that we can reject null hypothesis and therefore can say that the time it takes to name congruent words is lower than incongruent words.\n",
    "\n",
    "The test measures whether the average score differs significantly across samples(e.g.exams).If we observe a large p - value,for example greater than 0.05 or 0.1 then we cannot reject the null hypothesis of identical average scores.If the p - value is smaller than the threshold, e.g.1 % , 5 % or 10 % , then we reject the null hypothesis of equal averages.Small p - values are associated with large t - statistics."
   ]
  },
  {
   "cell_type": "markdown",
   "metadata": {},
   "source": [
    "### References\n",
    "[<sup>1</sup> Lesson 11: Hypothesis Testing](https://onlinecourses.science.psu.edu/stat100/node/80)  \n",
    "[<sup>2</sup> Hypothesis Testing for a Mean](https://onlinecourses.science.psu.edu/stat200/node/54)  \n",
    "[<sup>3</sup> Research Hypothesis](https://researchrundowns.files.wordpress.com/2009/07/rrsignificancettest_71709.pdf)  \n",
    "[<sup>4</sup> Critical values and p values](http://www.itl.nist.gov/div898/handbook/prc/section1/prc131.htm)  "
   ]
  },
  {
   "cell_type": "markdown",
   "metadata": {},
   "source": [
    "### 6. Optional: What do you think is responsible for the effects observed? Can you think of an alternative or similar task that would result in a similar effect? Some research about the problem will be helpful for thinking about these two questions!"
   ]
  }
 ],
 "metadata": {
  "kernelspec": {
   "display_name": "Python 2",
   "language": "python",
   "name": "python2"
  },
  "language_info": {
   "codemirror_mode": {
    "name": "ipython",
    "version": 2
   },
   "file_extension": ".py",
   "mimetype": "text/x-python",
   "name": "python",
   "nbconvert_exporter": "python",
   "pygments_lexer": "ipython2",
   "version": "2.7.11"
  }
 },
 "nbformat": 4,
 "nbformat_minor": 0
}
